{
 "cells": [
  {
   "cell_type": "code",
   "execution_count": 1,
   "metadata": {
    "collapsed": false
   },
   "outputs": [
    {
     "name": "stderr",
     "output_type": "stream",
     "text": [
      "/Users/fujitakousuke/anaconda/envs/py35/lib/python3.5/site-packages/IPython/html.py:14: ShimWarning: The `IPython.html` package has been deprecated. You should import from `notebook` instead. `IPython.html.widgets` has moved to `ipywidgets`.\n",
      "  \"`IPython.html.widgets` has moved to `ipywidgets`.\", ShimWarning)\n"
     ]
    }
   ],
   "source": [
    "import pandas as pd\n",
    "import numpy as np\n",
    "import matplotlib as mpl\n",
    "import matplotlib.pyplot as plt\n",
    "import seaborn as sns\n",
    "from collections import Counter\n",
    "%matplotlib inline"
   ]
  },
  {
   "cell_type": "code",
   "execution_count": 9,
   "metadata": {
    "collapsed": false
   },
   "outputs": [
    {
     "data": {
      "text/html": [
       "<div>\n",
       "<table border=\"1\" class=\"dataframe\">\n",
       "  <thead>\n",
       "    <tr style=\"text-align: right;\">\n",
       "      <th></th>\n",
       "      <th>水域</th>\n",
       "      <th>大学名</th>\n",
       "      <th>クラス</th>\n",
       "    </tr>\n",
       "  </thead>\n",
       "  <tbody>\n",
       "    <tr>\n",
       "      <th>0</th>\n",
       "      <td>北海道</td>\n",
       "      <td>北海道大</td>\n",
       "      <td>470級</td>\n",
       "    </tr>\n",
       "    <tr>\n",
       "      <th>1</th>\n",
       "      <td>東北</td>\n",
       "      <td>東北大</td>\n",
       "      <td>470級</td>\n",
       "    </tr>\n",
       "    <tr>\n",
       "      <th>2</th>\n",
       "      <td>関東</td>\n",
       "      <td>慶應義塾大</td>\n",
       "      <td>470級</td>\n",
       "    </tr>\n",
       "    <tr>\n",
       "      <th>3</th>\n",
       "      <td>関東</td>\n",
       "      <td>早稲田大</td>\n",
       "      <td>470級</td>\n",
       "    </tr>\n",
       "    <tr>\n",
       "      <th>4</th>\n",
       "      <td>関東</td>\n",
       "      <td>明海大</td>\n",
       "      <td>470級</td>\n",
       "    </tr>\n",
       "  </tbody>\n",
       "</table>\n",
       "</div>"
      ],
      "text/plain": [
       "    水域    大学名   クラス\n",
       "0  北海道   北海道大  470級\n",
       "1   東北    東北大  470級\n",
       "2   関東  慶應義塾大  470級\n",
       "3   関東   早稲田大  470級\n",
       "4   関東    明海大  470級"
      ]
     },
     "execution_count": 9,
     "metadata": {},
     "output_type": "execute_result"
    }
   ],
   "source": [
    "data = pd.read_csv(\"./data/teams.csv\")\n",
    "data.head()"
   ]
  },
  {
   "cell_type": "code",
   "execution_count": 12,
   "metadata": {
    "collapsed": false
   },
   "outputs": [
    {
     "data": {
      "text/plain": [
       "['北海道大A',\n",
       " '北海道大B',\n",
       " '北海道大C',\n",
       " '東北大A',\n",
       " '東北大B',\n",
       " '東北大C',\n",
       " '慶應義塾大A',\n",
       " '慶應義塾大B',\n",
       " '慶應義塾大C',\n",
       " '早稲田大A',\n",
       " '早稲田大B',\n",
       " '早稲田大C',\n",
       " '明海大A',\n",
       " '明海大B',\n",
       " '明海大C',\n",
       " '日本大A',\n",
       " '日本大B',\n",
       " '日本大C',\n",
       " '中央大A',\n",
       " '中央大B',\n",
       " '中央大C',\n",
       " '法政大A',\n",
       " '法政大B',\n",
       " '法政大C',\n",
       " '千葉大A',\n",
       " '千葉大B',\n",
       " '千葉大C',\n",
       " '愛知工業大A',\n",
       " '愛知工業大B',\n",
       " '愛知工業大C',\n",
       " '愛知大A',\n",
       " '愛知大B',\n",
       " '愛知大C',\n",
       " '同志社大A',\n",
       " '同志社大B',\n",
       " '同志社大C',\n",
       " '京都大A',\n",
       " '京都大B',\n",
       " '京都大C',\n",
       " '金沢大A',\n",
       " '金沢大B',\n",
       " '金沢大C',\n",
       " '関西学院大A',\n",
       " '関西学院大B',\n",
       " '関西学院大C',\n",
       " '関西大A',\n",
       " '関西大B',\n",
       " '関西大C',\n",
       " '近畿大A',\n",
       " '近畿大B',\n",
       " '近畿大C',\n",
       " '広島大A',\n",
       " '広島大B',\n",
       " '広島大C',\n",
       " '鳥取大A',\n",
       " '鳥取大B',\n",
       " '鳥取大C',\n",
       " '徳島大A',\n",
       " '徳島大B',\n",
       " '徳島大C',\n",
       " '九州大A',\n",
       " '九州大B',\n",
       " '九州大C',\n",
       " '日本経済大A',\n",
       " '日本経済大B',\n",
       " '日本経済大C',\n",
       " '鹿屋体育大A',\n",
       " '鹿屋体育大B',\n",
       " '鹿屋体育大C',\n",
       " '小樽商科大A',\n",
       " '小樽商科大B',\n",
       " '小樽商科大C',\n",
       " '東北大A',\n",
       " '東北大B',\n",
       " '東北大C',\n",
       " '慶應義塾大A',\n",
       " '慶應義塾大B',\n",
       " '慶應義塾大C',\n",
       " '早稲田大A',\n",
       " '早稲田大B',\n",
       " '早稲田大C',\n",
       " '明海大A',\n",
       " '明海大B',\n",
       " '明海大C',\n",
       " '日本大A',\n",
       " '日本大B',\n",
       " '日本大C',\n",
       " '中央大A',\n",
       " '中央大B',\n",
       " '中央大C',\n",
       " '法政大A',\n",
       " '法政大B',\n",
       " '法政大C',\n",
       " '明治大A',\n",
       " '明治大B',\n",
       " '明治大C',\n",
       " '三重大A',\n",
       " '三重大B',\n",
       " '三重大C',\n",
       " '名古屋工業大A',\n",
       " '名古屋工業大B',\n",
       " '名古屋工業大C',\n",
       " '同志社大A',\n",
       " '同志社大B',\n",
       " '同志社大C',\n",
       " '京都大A',\n",
       " '京都大B',\n",
       " '京都大C',\n",
       " '龍谷大A',\n",
       " '龍谷大B',\n",
       " '龍谷大C',\n",
       " '関西学院大A',\n",
       " '関西学院大B',\n",
       " '関西学院大C',\n",
       " '関西大A',\n",
       " '関西大B',\n",
       " '関西大C',\n",
       " '甲南大A',\n",
       " '甲南大B',\n",
       " '甲南大C',\n",
       " '広島大A',\n",
       " '広島大B',\n",
       " '広島大C',\n",
       " '山口大A',\n",
       " '山口大B',\n",
       " '山口大C',\n",
       " '香川大A',\n",
       " '香川大B',\n",
       " '香川大C',\n",
       " '九州大A',\n",
       " '九州大B',\n",
       " '九州大C',\n",
       " '福岡大A',\n",
       " '福岡大B',\n",
       " '福岡大C',\n",
       " '長崎総合科学大A',\n",
       " '長崎総合科学大B',\n",
       " '長崎総合科学大C']"
      ]
     },
     "execution_count": 12,
     "metadata": {},
     "output_type": "execute_result"
    }
   ],
   "source": [
    "abc = [[x+\"A\",x+\"B\", x+\"C\"] for x in data[\"大学名\"]]\n",
    "abc2 = []\n",
    "for x in abc:\n",
    "    abc2.extend(x)\n",
    "abc2"
   ]
  },
  {
   "cell_type": "code",
   "execution_count": 17,
   "metadata": {
    "collapsed": false
   },
   "outputs": [
    {
     "name": "stdout",
     "output_type": "stream",
     "text": [
      "(138, 4)\n"
     ]
    },
    {
     "data": {
      "text/html": [
       "<div>\n",
       "<table border=\"1\" class=\"dataframe\">\n",
       "  <thead>\n",
       "    <tr style=\"text-align: right;\">\n",
       "      <th></th>\n",
       "      <th>水域</th>\n",
       "      <th>大学名</th>\n",
       "      <th>クラス</th>\n",
       "      <th>チーム名</th>\n",
       "    </tr>\n",
       "  </thead>\n",
       "  <tbody>\n",
       "    <tr>\n",
       "      <th>0</th>\n",
       "      <td>北海道</td>\n",
       "      <td>北海道大</td>\n",
       "      <td>470級</td>\n",
       "      <td>北海道大A</td>\n",
       "    </tr>\n",
       "    <tr>\n",
       "      <th>0</th>\n",
       "      <td>北海道</td>\n",
       "      <td>北海道大</td>\n",
       "      <td>470級</td>\n",
       "      <td>北海道大B</td>\n",
       "    </tr>\n",
       "    <tr>\n",
       "      <th>0</th>\n",
       "      <td>北海道</td>\n",
       "      <td>北海道大</td>\n",
       "      <td>470級</td>\n",
       "      <td>北海道大C</td>\n",
       "    </tr>\n",
       "    <tr>\n",
       "      <th>1</th>\n",
       "      <td>東北</td>\n",
       "      <td>東北大</td>\n",
       "      <td>470級</td>\n",
       "      <td>東北大A</td>\n",
       "    </tr>\n",
       "    <tr>\n",
       "      <th>1</th>\n",
       "      <td>東北</td>\n",
       "      <td>東北大</td>\n",
       "      <td>470級</td>\n",
       "      <td>東北大B</td>\n",
       "    </tr>\n",
       "  </tbody>\n",
       "</table>\n",
       "</div>"
      ],
      "text/plain": [
       "    水域   大学名   クラス   チーム名\n",
       "0  北海道  北海道大  470級  北海道大A\n",
       "0  北海道  北海道大  470級  北海道大B\n",
       "0  北海道  北海道大  470級  北海道大C\n",
       "1   東北   東北大  470級   東北大A\n",
       "1   東北   東北大  470級   東北大B"
      ]
     },
     "execution_count": 17,
     "metadata": {},
     "output_type": "execute_result"
    }
   ],
   "source": [
    "data2 = pd.DataFrame({\n",
    "        \"水域\" : np.repeat(data[\"水域\"],3) ,\n",
    "        \"大学名\": np.repeat(data[\"大学名\"],3),\n",
    "        \"クラス\": np.repeat(data[\"クラス\"],3),\n",
    "        \"チーム名\": abc2,\n",
    "              },columns=[\"水域\",\"大学名\",\"クラス\",\"チーム名\"])\n",
    "print(data2.shape)\n",
    "data2.head()"
   ]
  },
  {
   "cell_type": "markdown",
   "metadata": {},
   "source": [
    "# ランダムデータ"
   ]
  },
  {
   "cell_type": "code",
   "execution_count": 16,
   "metadata": {
    "collapsed": true
   },
   "outputs": [],
   "source": [
    "import random"
   ]
  },
  {
   "cell_type": "code",
   "execution_count": 36,
   "metadata": {
    "collapsed": false
   },
   "outputs": [],
   "source": [
    "juni = random.sample(list(range(1,70)),69)\n",
    "juni.extend(random.sample(list(range(1,70)),69))\n",
    "juni2 = random.sample(list(range(1,70)),69)\n",
    "juni2.extend(random.sample(list(range(1,70)),69))\n",
    "juni3 = random.sample(list(range(1,70)),69)\n",
    "juni3.extend(random.sample(list(range(1,70)),69))"
   ]
  },
  {
   "cell_type": "code",
   "execution_count": 37,
   "metadata": {
    "collapsed": false
   },
   "outputs": [],
   "source": [
    "data2[\"race1\"] = juni\n",
    "data2[\"race2\"] = juni2\n",
    "data2[\"race3\"] = juni3"
   ]
  },
  {
   "cell_type": "code",
   "execution_count": 38,
   "metadata": {
    "collapsed": false
   },
   "outputs": [
    {
     "data": {
      "text/html": [
       "<div>\n",
       "<table border=\"1\" class=\"dataframe\">\n",
       "  <thead>\n",
       "    <tr style=\"text-align: right;\">\n",
       "      <th></th>\n",
       "      <th>水域</th>\n",
       "      <th>大学名</th>\n",
       "      <th>クラス</th>\n",
       "      <th>チーム名</th>\n",
       "      <th>race1</th>\n",
       "      <th>race2</th>\n",
       "      <th>race3</th>\n",
       "    </tr>\n",
       "  </thead>\n",
       "  <tbody>\n",
       "    <tr>\n",
       "      <th>0</th>\n",
       "      <td>北海道</td>\n",
       "      <td>北海道大</td>\n",
       "      <td>470級</td>\n",
       "      <td>北海道大A</td>\n",
       "      <td>14</td>\n",
       "      <td>63</td>\n",
       "      <td>27</td>\n",
       "    </tr>\n",
       "    <tr>\n",
       "      <th>0</th>\n",
       "      <td>北海道</td>\n",
       "      <td>北海道大</td>\n",
       "      <td>470級</td>\n",
       "      <td>北海道大B</td>\n",
       "      <td>68</td>\n",
       "      <td>52</td>\n",
       "      <td>44</td>\n",
       "    </tr>\n",
       "    <tr>\n",
       "      <th>0</th>\n",
       "      <td>北海道</td>\n",
       "      <td>北海道大</td>\n",
       "      <td>470級</td>\n",
       "      <td>北海道大C</td>\n",
       "      <td>8</td>\n",
       "      <td>41</td>\n",
       "      <td>59</td>\n",
       "    </tr>\n",
       "    <tr>\n",
       "      <th>1</th>\n",
       "      <td>東北</td>\n",
       "      <td>東北大</td>\n",
       "      <td>470級</td>\n",
       "      <td>東北大A</td>\n",
       "      <td>6</td>\n",
       "      <td>25</td>\n",
       "      <td>29</td>\n",
       "    </tr>\n",
       "    <tr>\n",
       "      <th>1</th>\n",
       "      <td>東北</td>\n",
       "      <td>東北大</td>\n",
       "      <td>470級</td>\n",
       "      <td>東北大B</td>\n",
       "      <td>16</td>\n",
       "      <td>8</td>\n",
       "      <td>3</td>\n",
       "    </tr>\n",
       "  </tbody>\n",
       "</table>\n",
       "</div>"
      ],
      "text/plain": [
       "    水域   大学名   クラス   チーム名  race1  race2  race3\n",
       "0  北海道  北海道大  470級  北海道大A     14     63     27\n",
       "0  北海道  北海道大  470級  北海道大B     68     52     44\n",
       "0  北海道  北海道大  470級  北海道大C      8     41     59\n",
       "1   東北   東北大  470級   東北大A      6     25     29\n",
       "1   東北   東北大  470級   東北大B     16      8      3"
      ]
     },
     "execution_count": 38,
     "metadata": {},
     "output_type": "execute_result"
    }
   ],
   "source": [
    "data2.head()"
   ]
  },
  {
   "cell_type": "code",
   "execution_count": 39,
   "metadata": {
    "collapsed": true
   },
   "outputs": [],
   "source": [
    "data2.to_csv(\"./data/test_data.csv\", index=False)"
   ]
  },
  {
   "cell_type": "code",
   "execution_count": null,
   "metadata": {
    "collapsed": true
   },
   "outputs": [],
   "source": []
  }
 ],
 "metadata": {
  "kernelspec": {
   "display_name": "Python 3",
   "language": "python",
   "name": "python3"
  },
  "language_info": {
   "codemirror_mode": {
    "name": "ipython",
    "version": 3
   },
   "file_extension": ".py",
   "mimetype": "text/x-python",
   "name": "python",
   "nbconvert_exporter": "python",
   "pygments_lexer": "ipython3",
   "version": "3.5.2"
  },
  "toc": {
   "nav_menu": {
    "height": "30px",
    "width": "252px"
   },
   "navigate_menu": true,
   "number_sections": true,
   "sideBar": true,
   "threshold": 4,
   "toc_cell": false,
   "toc_section_display": "block",
   "toc_window_display": false
  }
 },
 "nbformat": 4,
 "nbformat_minor": 1
}
